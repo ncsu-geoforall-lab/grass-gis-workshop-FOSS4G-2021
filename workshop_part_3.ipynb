{
 "cells": [
  {
   "cell_type": "markdown",
   "metadata": {},
   "source": [
    "# Part 3: Estimating inundation extent using HAND methodology\n",
    "\n",
    "\n",
    "In this example we will use some of GRASS GIS hydrology tools, namely:\n",
    "\n",
    "* [r.watershed](https://grass.osgeo.org/grass-stable/manuals/r.watershed.html): for computing flow accumulation, drainage direction, the location of streams and watershed basins; it does not need sink filling because of using the least-cost-path to route flow out of sinks\n",
    "* [r.lake](https://grass.osgeo.org/grass-stable/manuals/r.lake.html): to fill a lake to a target water level from a given start point or seed raster\n",
    "* [r.lake.series](https://grass.osgeo.org/grass-stable/manuals/r.lake.series.html): addon which runs r.lake for different water levels\n",
    "* [r.stream.distance](https://grass.osgeo.org/grass-stable/manuals/r.stream.distance.html): for computing the distance to streams or outlet, the relative elevation above streams; the distance and the elevation are calculated along watercourses\n",
    "\n",
    "First, let's create a new mapset *flooding* in nc_spm_08_grass7 sample dataset:"
   ]
  },
  {
   "cell_type": "code",
   "execution_count": null,
   "metadata": {},
   "outputs": [],
   "source": [
    "%%bash\n",
    "grass -c -e ~/grassdata/nc_spm_08_grass7/flooding"
   ]
  },
  {
   "cell_type": "markdown",
   "metadata": {},
   "source": [
    "Initialize GRASS session:"
   ]
  },
  {
   "cell_type": "code",
   "execution_count": null,
   "metadata": {},
   "outputs": [],
   "source": [
    "# Import Python standard library and IPython packages we need.\n",
    "import os\n",
    "import subprocess\n",
    "import sys\n",
    "\n",
    "# Ask GRASS GIS where its Python packages are.\n",
    "gisbase = subprocess.check_output([\"grass\", \"--config\", \"path\"], text=True).strip()\n",
    "os.environ[\"GISBASE\"] = gisbase\n",
    "sys.path.append(os.path.join(gisbase, \"etc\", \"python\"))\n",
    "\n",
    "# Import the GRASS GIS packages we need.\n",
    "import grass.script as gs\n",
    "import grass.jupyter as gj\n",
    "\n",
    "# Start GRASS Session\n",
    "gj.init(os.path.expanduser(\"~/grassdata\"), \"nc_spm_08_grass7\", \"flooding\")"
   ]
  },
  {
   "cell_type": "markdown",
   "metadata": {},
   "source": [
    "Modules r.stream.distance and r.lake.series are addons and we need to install them first:"
   ]
  },
  {
   "cell_type": "code",
   "execution_count": null,
   "metadata": {},
   "outputs": [],
   "source": [
    "gs.run_command(\"g.extension\", extension=\"r.stream.distance\")\n",
    "gs.run_command(\"g.extension\", extension=\"r.lake.series\")"
   ]
  },
  {
   "cell_type": "markdown",
   "metadata": {},
   "source": [
    "### Compute HAND raster"
   ]
  },
  {
   "cell_type": "markdown",
   "metadata": {},
   "source": [
    "We will estimate inundation extent using the Height Above Nearest Drainage methodology ([A.D. Nobre, 2011](https://doi.org/10.1016/j.jhydrol.2011.03.051)). We will compute the HAND terrain model representing the differences in elevation between each grid cell and the elevations of the flowpath-connected downslope grid cells where the flow enters the channel.\n",
    "\n",
    "First we compute the flow accumulation, drainage and streams (with a threshold value of 100000). We convert the streams to vector for better visualization."
   ]
  },
  {
   "cell_type": "code",
   "execution_count": null,
   "metadata": {},
   "outputs": [],
   "source": [
    "gs.run_command(\"g.region\", raster=\"elevation\")\n",
    "gs.run_command(\"r.watershed\", elevation=\"elevation\", accumulation=\"flowacc\", drainage=\"drainage\", stream=\"streams\", threshold=100000)\n",
    "gs.run_command(\"r.to.vect\", input=\"streams\", output=\"streams\", type=\"line\")\n",
    "\n",
    "img = gj.GrassRenderer()\n",
    "img.d_rast(map=\"flowacc\")\n",
    "img.d_vect(map=\"streams\", width=2, color=\"blue\")\n",
    "img.show()"
   ]
  },
  {
   "cell_type": "markdown",
   "metadata": {},
   "source": [
    "Now we use r.stream.distance with output parameter difference to compute a new raster map where each cell is the elevation difference between the cell and the the cell on the stream where the cell drains."
   ]
  },
  {
   "cell_type": "code",
   "execution_count": null,
   "metadata": {},
   "outputs": [],
   "source": [
    "gs.run_command(\"r.stream.distance\", stream_rast=\"streams\", direction=\"drainage\", elevation=\"elevation\", method=\"downstream\", difference=\"above_stream\")\n",
    "gs.run_command(\"r.colors\", map=\"above_stream\", color=\"elevation\")\n",
    "\n",
    "img = gj.GrassRenderer()\n",
    "img.d_rast(map=\"above_stream\")\n",
    "img.show()"
   ]
  },
  {
   "cell_type": "markdown",
   "metadata": {},
   "source": [
    "### Inundation\n",
    "Before we compute the inundation, we will look at how r.lake works. We compute a lake from a specified coordinate pair and water level:"
   ]
  },
  {
   "cell_type": "code",
   "execution_count": null,
   "metadata": {},
   "outputs": [],
   "source": [
    "gs.run_command(\"r.lake\", elevation=\"elevation\", water_level=90, lake=\"lake\", coordinates=[637877, 218475])\n",
    "\n",
    "img = gj.GrassRenderer()\n",
    "img.d_rast(map=\"elevation\")\n",
    "img.d_rast(map=\"lake\")\n",
    "img.show()"
   ]
  },
  {
   "cell_type": "markdown",
   "metadata": {},
   "source": [
    "Now instead of the elevation raster we use the HAND raster to simulate 5-meter inundation and, as the seed we specify the entire stream."
   ]
  },
  {
   "cell_type": "code",
   "execution_count": null,
   "metadata": {},
   "outputs": [],
   "source": [
    "gs.run_command(\"r.lake\", elevation=\"above_stream\", water_level=5, lake=\"flood\", seed=\"streams\")\n",
    "\n",
    "img = gj.GrassRenderer()\n",
    "img.d_rast(map=\"above_stream\")\n",
    "img.d_rast(map=\"flood\")\n",
    "img.show()"
   ]
  },
  {
   "cell_type": "markdown",
   "metadata": {},
   "source": [
    "With the r.lake.series addon we can create a series of inundation maps with rising water levels:"
   ]
  },
  {
   "cell_type": "code",
   "execution_count": null,
   "metadata": {},
   "outputs": [],
   "source": [
    "gs.run_command(\"r.lake.series\", elevation=\"above_stream\", start_water_level=0, end_water_level=5, water_level_step=0.5, output=\"inundation\", seed_raster=\"streams\")\n",
    "gs.run_command(\"t.rast.colors\", input=\"inundation\", color=\"water\")"
   ]
  },
  {
   "cell_type": "markdown",
   "metadata": {},
   "source": [
    "r.lake.series creates a space-time dataset. We can use the [temporal modules](https://grass.osgeo.org/grass-stable/manuals/temporal.html) to further work with the data. For example, we could further compute the volume and extent of flood water using t.rast.univar:"
   ]
  },
  {
   "cell_type": "code",
   "execution_count": null,
   "metadata": {},
   "outputs": [],
   "source": [
    "import pandas as pd\n",
    "data = gs.read_command(\"t.rast.univar\", input=\"inundation\", separator=\"comma\")\n",
    "pd.DataFrame([line.split(\",\") for line in data.splitlines()])"
   ]
  },
  {
   "cell_type": "markdown",
   "metadata": {},
   "source": [
    "### Visualization\n",
    "\n",
    "Here we show how to create a GIF animation of the raising water levels using Python. First, we render individual images in a loop with increasing inundation level:"
   ]
  },
  {
   "cell_type": "code",
   "execution_count": null,
   "metadata": {},
   "outputs": [],
   "source": [
    "from PIL import Image\n",
    "\n",
    "images = []\n",
    "for raster in gs.list_grouped(type=\"raster\", pattern=\"inundation_*\")[\"flooding\"]:\n",
    "    img = gj.GrassRenderer()\n",
    "    img.d_rast(map=\"elevation_shade\")\n",
    "    img.d_vect(map=\"streets_wake\", color=\"#4D4D4D\")\n",
    "    img.d_rast(map=raster)\n",
    "    f = img.filename\n",
    "    images.append(Image.open(img.filename))"
   ]
  },
  {
   "cell_type": "markdown",
   "metadata": {},
   "source": [
    "Now create an animated GIF:"
   ]
  },
  {
   "cell_type": "code",
   "execution_count": null,
   "metadata": {},
   "outputs": [],
   "source": [
    "from grass.imaging import writeGif       \n",
    "from IPython.display import Image\n",
    "\n",
    "writeGif(filename=\"inundation.gif\", images=images, duration=0.2, repeat=True)\n",
    "Image(\"inundation.gif\")"
   ]
  },
  {
   "cell_type": "markdown",
   "metadata": {},
   "source": [
    "We can do the same with the *Animation Tool* in GUI:\n",
    "\n",
    "![Using the Animation Tool for animating inundation](img/flooding.gif)"
   ]
  },
  {
   "cell_type": "code",
   "execution_count": null,
   "metadata": {},
   "outputs": [],
   "source": []
  }
 ],
 "metadata": {
  "kernelspec": {
   "display_name": "Python 3",
   "language": "python",
   "name": "python3"
  },
  "language_info": {
   "codemirror_mode": {
    "name": "ipython",
    "version": 3
   },
   "file_extension": ".py",
   "mimetype": "text/x-python",
   "name": "python",
   "nbconvert_exporter": "python",
   "pygments_lexer": "ipython3",
   "version": "3.6.9"
  }
 },
 "nbformat": 4,
 "nbformat_minor": 4
}
